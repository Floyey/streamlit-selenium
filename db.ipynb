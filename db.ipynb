{
 "cells": [
  {
   "cell_type": "markdown",
   "metadata": {},
   "source": [
    "# Préparation des données de départ"
   ]
  },
  {
   "cell_type": "markdown",
   "metadata": {},
   "source": [
    "### def `get_first_data`"
   ]
  },
  {
   "cell_type": "code",
   "execution_count": 1,
   "metadata": {},
   "outputs": [],
   "source": [
    "from selenium.webdriver import Chrome\n",
    "from selenium.webdriver.common.by import By\n",
    "from time import sleep\n",
    "\n",
    "\n",
    "def get_first_data(nb):\n",
    "    \"\"\"\n",
    "    20 éléments par page\n",
    "    ~1 minute par page\n",
    "    \"\"\"\n",
    "\n",
    "    links = []\n",
    "    nb_cards = 0\n",
    "    data = {}\n",
    "\n",
    "    driver = Chrome()\n",
    "    driver.get('https://howlongtobeat.com/?q=')\n",
    "    sleep(2)\n",
    "    driver.find_element(By.ID, 'onetrust-accept-btn-handler').click()\n",
    "\n",
    "    print(f'Récupération des {nb} premiers liens en cours...')\n",
    "\n",
    "    while nb_cards < nb:\n",
    "        sleep(2)\n",
    "        cards = driver.find_elements(By.CLASS_NAME, 'GameCard_inside_blur__cP8_l')\n",
    "        for card in cards:\n",
    "            link = card.find_element(By.TAG_NAME, 'a').get_attribute('href')\n",
    "\n",
    "            try:\n",
    "                links.index(link)\n",
    "                continue\n",
    "            except:\n",
    "                links.append(link)\n",
    "                pass\n",
    "            nb_cards = nb_cards + 1\n",
    "            if nb_cards >= nb:\n",
    "                break\n",
    "            pass\n",
    "        driver.find_element(By.CLASS_NAME, 'Pagination_right__GwBE_.form_button.Pagination_inactive__dnoZF').click()\n",
    "        pass\n",
    "\n",
    "    print(f'Récupération des {nb} premiers liens terminés')\n",
    "\n",
    "    print('Récupération des données en cours...')\n",
    "\n",
    "    for link in links:\n",
    "        driver.get(link)\n",
    "        sleep(2)\n",
    "\n",
    "        try: id = driver.current_url.split('/')[-1]\n",
    "        except: id = 'none'\n",
    "\n",
    "        try: title = driver.find_element(By.CLASS_NAME, 'GameHeader_profile_header__q_PID.shadow_text').text\n",
    "        except: title = 'none'\n",
    "\n",
    "        try: img = driver.find_element(By.CLASS_NAME, 'GameSideBar_game_image__ozUTt.mobile_hide').find_element(By.TAG_NAME, 'img').get_attribute('src').split('?')[0]\n",
    "        except: img = 'none'\n",
    "\n",
    "        try: link = driver.current_url\n",
    "        except: link = 'none'\n",
    "\n",
    "        try: duration_main = driver.find_elements(By.CLASS_NAME, 'GameStats_short__tSJ6I.time_100')[0].find_element(By.TAG_NAME, 'h5').text\n",
    "        except: duration_main = 'none'\n",
    "\n",
    "        try: duration_extra = driver.find_elements(By.CLASS_NAME, 'GameStats_short__tSJ6I.time_100')[1].find_element(By.TAG_NAME, 'h5').text\n",
    "        except: duration_extra = 'none'\n",
    "\n",
    "        try: duration_complete = driver.find_elements(By.CLASS_NAME, 'GameStats_short__tSJ6I.time_100')[2].find_element(By.TAG_NAME, 'h5').text\n",
    "        except: duration_complete = 'none'\n",
    "\n",
    "        try: driver.find_element(By.ID, 'profile_summary_more').click()\n",
    "        except: pass\n",
    "\n",
    "        try: desc = driver.find_elements(By.CLASS_NAME, 'GameSummary_profile_info__HZFQu')[0].text\n",
    "        except: desc = 'none'\n",
    "\n",
    "        try: platform = driver.find_elements(By.CLASS_NAME, 'GameSummary_profile_info__HZFQu')[2].text.split('\\n')[1]\n",
    "        except: platform = 'none'\n",
    "\n",
    "        try: genre = driver.find_elements(By.CLASS_NAME, 'GameSummary_profile_info__HZFQu')[3].text.split('\\n')[1]\n",
    "        except: genre = 'none'\n",
    "\n",
    "        try: developer = driver.find_elements(By.CLASS_NAME, 'GameSummary_profile_info__HZFQu')[4].text.split('\\n')[1]\n",
    "        except: developer = 'none'\n",
    "\n",
    "        try: publisher = driver.find_elements(By.CLASS_NAME, 'GameSummary_profile_info__HZFQu')[5].text.split('\\n')[1]\n",
    "        except: publisher = 'none'\n",
    "\n",
    "        data[id] = {\n",
    "            'title': title,\n",
    "            'img': img,\n",
    "            'link': link,\n",
    "            'duration_main': duration_main,\n",
    "            'duration_extra': duration_extra,\n",
    "            'duration_complete': duration_complete,\n",
    "            'platform': platform,\n",
    "            'genre': genre,\n",
    "            'developer': developer,\n",
    "            'publisher': publisher,\n",
    "            'desc': desc\n",
    "        }\n",
    "        pass\n",
    "\n",
    "    print('Récupération des données terminées')\n",
    "\n",
    "    driver.close()\n",
    "    return data"
   ]
  },
  {
   "cell_type": "markdown",
   "metadata": {},
   "source": [
    "### Récupération des premières données"
   ]
  },
  {
   "cell_type": "code",
   "execution_count": 2,
   "metadata": {},
   "outputs": [
    {
     "name": "stdout",
     "output_type": "stream",
     "text": [
      "Récupération des 20 premiers liens en cours...\n",
      "Récupération des 20 premiers liens terminés\n",
      "Récupération des données en cours...\n",
      "Récupération des données terminées\n"
     ]
    }
   ],
   "source": [
    "data = get_first_data(20)"
   ]
  },
  {
   "cell_type": "markdown",
   "metadata": {},
   "source": [
    "# Création de la base de données"
   ]
  },
  {
   "cell_type": "markdown",
   "metadata": {},
   "source": [
    "### class `Database`"
   ]
  },
  {
   "cell_type": "code",
   "execution_count": 3,
   "metadata": {},
   "outputs": [],
   "source": [
    "import sqlalchemy as db\n",
    "\n",
    "\n",
    "class DataBase():\n",
    "    def __init__(self, name_database='database'):\n",
    "        self.name = name_database\n",
    "        self.url = f\"sqlite:///{name_database}.db\"\n",
    "        self.engine = db.create_engine(self.url)\n",
    "        self.connection = self.engine.connect()\n",
    "        self.metadata = db.MetaData()\n",
    "        self.table = self.engine.table_names()\n",
    "\n",
    "    def create_table(self, name_table, **kwargs):\n",
    "        colums = [db.Column(k, v, primary_key = True) if 'id_' in k else db.Column(k, v) for k,v in kwargs.items()]\n",
    "        db.Table(name_table, self.metadata, *colums)\n",
    "        self.metadata.create_all(self.engine)\n",
    "        print(f\"Table : '{name_table}' are created succesfully\")\n",
    "\n",
    "    def read_table(self, name_table, return_keys=False):\n",
    "        table = db.Table(name_table, self.metadata, autoload=True, autoload_with=self.engine)\n",
    "        if return_keys:table.columns.keys()\n",
    "        else : return table\n",
    "\n",
    "    def add_row(self, name_table, **kwarrgs):\n",
    "        table = self.read_table(name_table)\n",
    "\n",
    "        stmt = (db.insert(table).values(kwarrgs))\n",
    "        self.connection.execute(stmt)\n",
    "        print(f'Row added')\n",
    "\n",
    "    def delete_row_by_id(self, name_table, id_):\n",
    "        table = self.read_table(name_table)\n",
    "\n",
    "        stmt = (db.delete(table).where(table.columns.id_ == id_))\n",
    "        self.connection.execute(stmt)\n",
    "        print(f'Row id {id_} deleted')\n",
    "\n",
    "    def select_table(self, name_table):\n",
    "        table = self.read_table(name_table)\n",
    "        stmt = db.select([table])\n",
    "        return self.connection.execute(stmt).fetchall()\n",
    "\n",
    "    def delete_table(self, name_table):\n",
    "        return self.connection.execute(f'DROP TABLE {name_table}')"
   ]
  },
  {
   "cell_type": "markdown",
   "metadata": {},
   "source": [
    "### Initialisation de la base de données"
   ]
  },
  {
   "cell_type": "code",
   "execution_count": 4,
   "metadata": {},
   "outputs": [
    {
     "name": "stderr",
     "output_type": "stream",
     "text": [
      "C:\\Users\\jerem\\AppData\\Local\\Temp\\ipykernel_16544\\1173263507.py:11: SADeprecationWarning: The Engine.table_names() method is deprecated and will be removed in a future release.  Please refer to Inspector.get_table_names(). (deprecated since: 1.4)\n",
      "  self.table = self.engine.table_names()\n"
     ]
    }
   ],
   "source": [
    "database = DataBase('database')"
   ]
  },
  {
   "cell_type": "markdown",
   "metadata": {},
   "source": [
    "### Création de la table `games`"
   ]
  },
  {
   "cell_type": "code",
   "execution_count": 5,
   "metadata": {},
   "outputs": [
    {
     "name": "stdout",
     "output_type": "stream",
     "text": [
      "Table : 'games' are created succesfully\n"
     ]
    }
   ],
   "source": [
    "database.create_table(\n",
    "    \"games\",\n",
    "    id_=db.Integer,\n",
    "    title=db.String,\n",
    "    img=db.String,\n",
    "    link=db.String,\n",
    "    duration_main=db.String,\n",
    "    duration_extra=db.String,\n",
    "    duration_complete=db.String,\n",
    "    platform=db.String,\n",
    "    genre=db.String,\n",
    "    developer=db.String,\n",
    "    publisher=db.String,\n",
    "    desc=db.String,\n",
    ")"
   ]
  },
  {
   "cell_type": "markdown",
   "metadata": {},
   "source": [
    "### Insertion des données dans `games`"
   ]
  },
  {
   "cell_type": "code",
   "execution_count": 6,
   "metadata": {},
   "outputs": [
    {
     "name": "stdout",
     "output_type": "stream",
     "text": [
      "Row added\n",
      "Row added\n",
      "Row added\n",
      "Row added\n",
      "Row added\n",
      "Row added\n",
      "Row added\n",
      "Row added\n",
      "Row added\n",
      "Row added\n",
      "Row added\n",
      "Row added\n",
      "Row added\n",
      "Row added\n",
      "Row added\n",
      "Row added\n",
      "Row added\n",
      "Row added\n",
      "Row added\n",
      "Row added\n"
     ]
    }
   ],
   "source": [
    "for i in data:\n",
    "    database.add_row(\n",
    "        \"games\",\n",
    "        title=data[i][\"title\"],\n",
    "        img=data[i][\"img\"],\n",
    "        link=data[i][\"link\"],\n",
    "        duration_main=data[i][\"duration_main\"],\n",
    "        duration_extra=data[i][\"duration_extra\"],\n",
    "        duration_complete=data[i][\"duration_complete\"],\n",
    "        platform=data[i][\"platform\"],\n",
    "        genre=data[i][\"genre\"],\n",
    "        developer=data[i][\"developer\"],\n",
    "        publisher=data[i][\"publisher\"],\n",
    "        desc=data[i][\"desc\"],\n",
    "    )"
   ]
  },
  {
   "cell_type": "code",
   "execution_count": 22,
   "metadata": {},
   "outputs": [],
   "source": [
    "title = 'titslsqde'\n",
    "img = 'imgsqd'\n",
    "link = 'linkqsd'\n",
    "duration_main = 'qsdduration_main'\n",
    "duration_extra = 'duration_extra'\n",
    "duration_complete = 'duration_complete'\n",
    "platform = 'platform'\n",
    "genre = 'genre'\n",
    "developer = 'developer'\n",
    "publisher = 'publisher'\n",
    "desc = 'desc'"
   ]
  },
  {
   "cell_type": "code",
   "execution_count": 23,
   "metadata": {},
   "outputs": [
    {
     "data": {
      "text/plain": [
       "'titslsqde'"
      ]
     },
     "execution_count": 23,
     "metadata": {},
     "output_type": "execute_result"
    }
   ],
   "source": [
    "title"
   ]
  },
  {
   "cell_type": "code",
   "execution_count": 25,
   "metadata": {},
   "outputs": [],
   "source": [
    "data = [title, img, link]"
   ]
  },
  {
   "cell_type": "code",
   "execution_count": 26,
   "metadata": {},
   "outputs": [],
   "source": [
    "(title, img, link) = data"
   ]
  }
 ],
 "metadata": {
  "kernelspec": {
   "display_name": "Python 3",
   "language": "python",
   "name": "python3"
  },
  "language_info": {
   "codemirror_mode": {
    "name": "ipython",
    "version": 3
   },
   "file_extension": ".py",
   "mimetype": "text/x-python",
   "name": "python",
   "nbconvert_exporter": "python",
   "pygments_lexer": "ipython3",
   "version": "3.10.6"
  }
 },
 "nbformat": 4,
 "nbformat_minor": 2
}
